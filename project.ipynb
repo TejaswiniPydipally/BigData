{
 "cells": [
  {
   "cell_type": "code",
   "execution_count": 1,
   "id": "416c1ac3-9cfd-47fb-a5cd-acdfc172b851",
   "metadata": {},
   "outputs": [],
   "source": [
    "from pyspark.sql import SparkSession\n",
    "from pyspark.sql.functions import col, avg, sum as _sum, when, count"
   ]
  },
  {
   "cell_type": "code",
   "execution_count": 2,
   "id": "479879dc-e152-43bd-8936-9c0ad4eb7e89",
   "metadata": {},
   "outputs": [],
   "source": [
    "spark = SparkSession.builder.appName(\"IPL Analysis\").getOrCreate()\n"
   ]
  },
  {
   "cell_type": "code",
   "execution_count": 5,
   "id": "8d5f236a-d51e-4e15-ab00-4823dd175033",
   "metadata": {},
   "outputs": [],
   "source": [
    "ipl_df = spark.read.csv(\"ipl.csv\", header=True, inferSchema=True)"
   ]
  },
  {
   "cell_type": "code",
   "execution_count": 6,
   "id": "a710609a-d37f-4bcc-bb2f-d55e98fee794",
   "metadata": {},
   "outputs": [
    {
     "name": "stdout",
     "output_type": "stream",
     "text": [
      "+-----+----------+-------------+\n",
      "|Overs|Total_Runs|Total_Wickets|\n",
      "+-----+----------+-------------+\n",
      "|  0.0|        52|            0|\n",
      "|  0.1|       607|           22|\n",
      "|  0.2|      1174|           34|\n",
      "|  0.3|      1776|           48|\n",
      "|  0.4|      2422|           68|\n",
      "|  0.5|      3058|           96|\n",
      "|  0.6|      3557|          113|\n",
      "|  1.0|       264|           11|\n",
      "|  1.1|      4455|          143|\n",
      "|  1.2|      5119|          171|\n",
      "|  1.3|      5880|          188|\n",
      "|  1.4|      6698|          220|\n",
      "|  1.5|      7475|          227|\n",
      "|  1.6|      7826|          243|\n",
      "|  2.0|       349|           10|\n",
      "|  2.1|      8918|          273|\n",
      "|  2.2|      9797|          315|\n",
      "|  2.3|     10733|          343|\n",
      "|  2.4|     11383|          355|\n",
      "|  2.5|     12263|          381|\n",
      "+-----+----------+-------------+\n",
      "only showing top 20 rows\n",
      "\n"
     ]
    }
   ],
   "source": [
    "runs_wickets_trend = ipl_df.groupBy(\"Overs\").agg(\n",
    "    _sum(\"Runs\").alias(\"Total_Runs\"),\n",
    "    _sum(\"Wickets\").alias(\"Total_Wickets\")\n",
    ").orderBy(\"Overs\")\n",
    "runs_wickets_trend.show()"
   ]
  },
  {
   "cell_type": "code",
   "execution_count": 7,
   "id": "2b7664a2-9e5e-43ee-83e7-5e6b72ed2587",
   "metadata": {},
   "outputs": [
    {
     "name": "stdout",
     "output_type": "stream",
     "text": [
      "+--------------------+---------------+\n",
      "|            Bat Team|Team_Total_Runs|\n",
      "+--------------------+---------------+\n",
      "|      Mumbai Indians|         756186|\n",
      "| Chennai Super Kings|         704009|\n",
      "|     Kings XI Punjab|         701187|\n",
      "|Royal Challengers...|         625136|\n",
      "|Kolkata Knight Ri...|         587747|\n",
      "|    Delhi Daredevils|         525339|\n",
      "|    Rajasthan Royals|         502878|\n",
      "| Sunrisers Hyderabad|         393138|\n",
      "|     Deccan Chargers|         389719|\n",
      "|       Pune Warriors|         170963|\n",
      "|       Gujarat Lions|         136106|\n",
      "|Rising Pune Super...|          76113|\n",
      "|Kochi Tuskers Kerala|          63121|\n",
      "|Rising Pune Super...|          60997|\n",
      "+--------------------+---------------+\n",
      "\n"
     ]
    }
   ],
   "source": [
    "team_comparison = ipl_df.groupBy(\"Bat Team\", \"Batsman\").agg(\n",
    "    _sum(\"Runs\").alias(\"Total_Runs\")\n",
    ").groupBy(\"Bat Team\").agg(\n",
    "    _sum(\"Total_Runs\").alias(\"Team_Total_Runs\")\n",
    ").orderBy(\"Team_Total_Runs\", ascending=False)\n",
    "team_comparison.show()"
   ]
  },
  {
   "cell_type": "code",
   "execution_count": 8,
   "id": "5f511e23-0ec0-4ce5-872d-1ec062e6f6d8",
   "metadata": {},
   "outputs": [
    {
     "name": "stdout",
     "output_type": "stream",
     "text": [
      "+-----------------+------------------+\n",
      "|           Bowler|Total_Overs_Bowled|\n",
      "+-----------------+------------------+\n",
      "|         DJ Bravo|               244|\n",
      "|          P Kumar|               200|\n",
      "|          B Kumar|               199|\n",
      "|      DS Kulkarni|               183|\n",
      "|   MJ McClenaghan|               175|\n",
      "|        RA Jadeja|               173|\n",
      "|        CH Morris|               173|\n",
      "|       TG Southee|               170|\n",
      "|        JJ Bumrah|               170|\n",
      "|Mustafizur Rahman|               170|\n",
      "|           Z Khan|               164|\n",
      "|     MC Henriques|               161|\n",
      "|         A Mishra|               158|\n",
      "|        SR Watson|               152|\n",
      "|  Harbhajan Singh|               149|\n",
      "|        SP Narine|               142|\n",
      "|          BB Sran|               140|\n",
      "|        YS Chahal|               126|\n",
      "|   Sandeep Sharma|               126|\n",
      "|        MM Sharma|               120|\n",
      "+-----------------+------------------+\n",
      "only showing top 20 rows\n",
      "\n"
     ]
    }
   ],
   "source": [
    "bowler_overs_2016 = ipl_df.filter(col(\"Date\").like(\"%2016%\")).groupBy(\"Bowler\").agg(\n",
    "    count(\"Overs\").alias(\"Total_Overs_Bowled\")\n",
    ").orderBy(\"Total_Overs_Bowled\", ascending=False)\n",
    "bowler_overs_2016.show()"
   ]
  },
  {
   "cell_type": "code",
   "execution_count": 9,
   "id": "1bce3375-58f6-4b7b-afbf-503a5aa14d12",
   "metadata": {},
   "outputs": [
    {
     "name": "stdout",
     "output_type": "stream",
     "text": [
      "+--------------------+--------------------+------------------+\n",
      "|               Venue|            Bat Team|  Avg_Total_Scored|\n",
      "+--------------------+--------------------+------------------+\n",
      "|    Wankhede Stadium|    Rajasthan Royals|             190.5|\n",
      "|    Wankhede Stadium|Royal Challengers...|185.61044176706827|\n",
      "|    Wankhede Stadium|     Kings XI Punjab|184.43484042553192|\n",
      "|    Wankhede Stadium|       Gujarat Lions|             176.0|\n",
      "|    Wankhede Stadium| Sunrisers Hyderabad|             168.0|\n",
      "|    Wankhede Stadium|      Mumbai Indians| 164.9647362385321|\n",
      "|    Wankhede Stadium| Chennai Super Kings|164.43253968253967|\n",
      "|    Wankhede Stadium|Rising Pune Super...|161.01214574898785|\n",
      "|    Wankhede Stadium|    Delhi Daredevils|             152.0|\n",
      "|    Wankhede Stadium|Kolkata Knight Ri...|144.44481605351172|\n",
      "|    Wankhede Stadium|       Pune Warriors|123.83189655172414|\n",
      "|    Wankhede Stadium|     Deccan Chargers|117.94491525423729|\n",
      "|Vidarbha Cricket ...|    Rajasthan Royals|             159.0|\n",
      "|Vidarbha Cricket ...|     Deccan Chargers|             151.0|\n",
      "|Vidarbha Cricket ...| Chennai Super Kings|             138.0|\n",
      "|     SuperSport Park| Chennai Super Kings|176.28571428571428|\n",
      "|     SuperSport Park|Kolkata Knight Ri...|             173.0|\n",
      "|     SuperSport Park|      Mumbai Indians|             165.0|\n",
      "|     SuperSport Park|    Delhi Daredevils|148.06072874493927|\n",
      "|     SuperSport Park|     Deccan Chargers|146.49392712550608|\n",
      "+--------------------+--------------------+------------------+\n",
      "only showing top 20 rows\n",
      "\n"
     ]
    }
   ],
   "source": [
    "avg_totals_venues = ipl_df.groupBy(\"Venue\", \"Bat Team\").agg(\n",
    "    avg(\"Total\").alias(\"Avg_Total_Scored\")\n",
    ").orderBy(\"Venue\", \"Avg_Total_Scored\", ascending=False)\n",
    "avg_totals_venues.show()"
   ]
  },
  {
   "cell_type": "code",
   "execution_count": 10,
   "id": "97109bc0-9f48-4ffe-9603-522e73c97dca",
   "metadata": {},
   "outputs": [
    {
     "name": "stdout",
     "output_type": "stream",
     "text": [
      "+--------------------+---------------------+\n",
      "|               Venue|Avg_Runs_Last_5_Balls|\n",
      "+--------------------+---------------------+\n",
      "|   Brabourne Stadium|    36.77608695652174|\n",
      "|Himachal Pradesh ...|    35.90134529147982|\n",
      "|Saurashtra Cricke...|    35.17575264442636|\n",
      "|          Green Park|    35.16869918699187|\n",
      "|    Barabati Stadium|    35.16355140186916|\n",
      "|M Chinnaswamy Sta...|    34.86873572484213|\n",
      "|Punjab Cricket As...|   34.843517138599104|\n",
      "|Punjab Cricket As...|    34.42524134683306|\n",
      "|MA Chidambaram St...|    34.24263228399196|\n",
      "|Maharashtra Crick...|     34.1958762886598|\n",
      "|    Feroz Shah Kotla|   34.007498585172605|\n",
      "|    Wankhede Stadium|   33.789585698070375|\n",
      "|Sardar Patel Stad...|    33.76347708894879|\n",
      "|        Eden Gardens|    33.00468151510852|\n",
      "|Dr. Y.S. Rajasekh...|   32.919137466307276|\n",
      "|    St George's Park|    32.67471264367816|\n",
      "|De Beers Diamond ...|    32.56521739130435|\n",
      "|Rajiv Gandhi Inte...|    32.49974257765574|\n",
      "|Holkar Cricket St...|    32.47001620745543|\n",
      "|Vidarbha Cricket ...|    32.18648648648649|\n",
      "+--------------------+---------------------+\n",
      "only showing top 20 rows\n",
      "\n"
     ]
    }
   ],
   "source": [
    "avg_runs_last_5 = ipl_df.groupBy(\"Venue\").agg(\n",
    "    avg(\"Runs Last 5\").alias(\"Avg_Runs_Last_5_Balls\")\n",
    ").orderBy(\"Avg_Runs_Last_5_Balls\", ascending=False)\n",
    "avg_runs_last_5.show()"
   ]
  },
  {
   "cell_type": "code",
   "execution_count": 11,
   "id": "3693ffe5-ab92-46b2-b35c-f08784314c3c",
   "metadata": {},
   "outputs": [
    {
     "name": "stdout",
     "output_type": "stream",
     "text": [
      "+--------------------+-----------------+\n",
      "|            Bat Team|Total_Runs_Scored|\n",
      "+--------------------+-----------------+\n",
      "|      Mumbai Indians|           756186|\n",
      "| Chennai Super Kings|           704009|\n",
      "|     Kings XI Punjab|           701187|\n",
      "|Royal Challengers...|           625136|\n",
      "|Kolkata Knight Ri...|           587747|\n",
      "|    Delhi Daredevils|           525339|\n",
      "|    Rajasthan Royals|           502878|\n",
      "| Sunrisers Hyderabad|           393138|\n",
      "|     Deccan Chargers|           389719|\n",
      "|       Pune Warriors|           170963|\n",
      "|       Gujarat Lions|           136106|\n",
      "|Rising Pune Super...|            76113|\n",
      "|Kochi Tuskers Kerala|            63121|\n",
      "|Rising Pune Super...|            60997|\n",
      "+--------------------+-----------------+\n",
      "\n"
     ]
    }
   ],
   "source": [
    "batting_team_runs = ipl_df.groupBy(\"Bat Team\").agg(\n",
    "    _sum(\"Runs\").alias(\"Total_Runs_Scored\")\n",
    ").orderBy(\"Total_Runs_Scored\", ascending=False)\n",
    "batting_team_runs.show()"
   ]
  },
  {
   "cell_type": "code",
   "execution_count": null,
   "id": "08a515b6-77f7-4e04-8148-776a86603e05",
   "metadata": {},
   "outputs": [],
   "source": []
  }
 ],
 "metadata": {
  "kernelspec": {
   "display_name": "Python 3 (ipykernel)",
   "language": "python",
   "name": "python3"
  },
  "language_info": {
   "codemirror_mode": {
    "name": "ipython",
    "version": 3
   },
   "file_extension": ".py",
   "mimetype": "text/x-python",
   "name": "python",
   "nbconvert_exporter": "python",
   "pygments_lexer": "ipython3",
   "version": "3.12.7"
  }
 },
 "nbformat": 4,
 "nbformat_minor": 5
}
